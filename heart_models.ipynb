{
 "metadata": {
  "name": "",
  "signature": "sha256:490707b4d52e2d52bad6687680112b98f93026d6ecb2e8c8ccad8580a3a1c5ce"
 },
 "nbformat": 3,
 "nbformat_minor": 0,
 "worksheets": [
  {
   "cells": [
    {
     "cell_type": "code",
     "collapsed": false,
     "input": [
      "import MySQLdb\n",
      "import credentials"
     ],
     "language": "python",
     "metadata": {},
     "outputs": [],
     "prompt_number": 1
    },
    {
     "cell_type": "code",
     "collapsed": false,
     "input": [
      "db = MySQLdb.connect(host='104.131.118.159', user='root', passwd='leftyheart', db='heart_disease')\n",
      "\n",
      "cursor = db.cursor()\n",
      "cursor.execute(\"\"\"\n",
      "SELECT \n",
      "    case\n",
      "        when CHDEV = 1\n",
      "            or HRTEV = 1\n",
      "            or HYPYR1 = 1\n",
      "            or ANGEV = 1\n",
      "            or MIEV = 1\n",
      "        then 1\n",
      "        when CHDEV = 2\n",
      "            or HRTEV = 2\n",
      "            or HYPYR1 = 2\n",
      "            or ANGEV = 2\n",
      "            or MIEV = 2\n",
      "        then 0\n",
      "        else null\n",
      "    end as all_heart\n",
      "    ,case\n",
      "        when VIGTP = 0\n",
      "            or VIGTP = 6\n",
      "        then 0\n",
      "        when VIGTP = 7 \n",
      "            or VIGTP = 8\n",
      "            or VIGTP = 9\n",
      "            or VIGTP = 0\n",
      "        then null\n",
      "        else VIGTP\n",
      "    end as gets_exercise\n",
      "    ,case\n",
      "        when CHLYR1 = 1\n",
      "            then 1\n",
      "        when CHLYR1 = 2\n",
      "            then 0\n",
      "        else null\n",
      "    end as cholesterol\n",
      "    ,case\n",
      "        when SMKSTAT2 = 9\n",
      "         or SMKSTAT2 = 0\n",
      "        then null\n",
      "        when SMKSTAT2 = 1\n",
      "            or SMKSTAT2 = 2\n",
      "            or SMKSTAT2 = 3\n",
      "            or SMKSTAT2 = 5\n",
      "        then 1\n",
      "        when SMKSTAT2 = 4\n",
      "        then 0\n",
      "    end as ever_smoked\n",
      "    ,case\n",
      "        when ALCSTAT = 05\n",
      "            or ALCSTAT = 06\n",
      "            or ALCSTAT = 07\n",
      "            or ALCSTAT = 08\n",
      "            or ALCSTAT = 09\n",
      "        then 1\n",
      "        when ALCSTAT = 01\n",
      "            or ALCSTAT = 02\n",
      "            or ALCSTAT = 03\n",
      "            or ALCSTAT = 04\n",
      "        then 0\n",
      "        else null\n",
      "    end as drink\n",
      "    ,case \n",
      "        when R_MARITL = 0\n",
      "            or R_MARITL = 3\n",
      "            or R_MARITL = 9\n",
      "        then null\n",
      "        when R_MARITL = 1\n",
      "            or R_MARITL = 8\n",
      "        then 1\n",
      "        else 0\n",
      "    end as partnered\n",
      "    ,case\n",
      "        when ASIRETR = 1\n",
      "            or ASIRETR = 2\n",
      "            or ASISTLV =1\n",
      "            or ASISTLV = 2\n",
      "            or ASINBILL = 1\n",
      "            or ASINBILL = 2\n",
      "            or ASIHCST = 1\n",
      "            or ASIHCST = 2\n",
      "        then 1\n",
      "        when ASIRETR = 3\n",
      "            or ASIRETR = 4\n",
      "            or ASISTLV = 3\n",
      "            or ASISTLV = 4\n",
      "            or ASINBILL = 3\n",
      "            or ASINBILL = 4\n",
      "            or ASIHCST = 3\n",
      "            or ASIHCST = 4\n",
      "        then 0\n",
      "        else null\n",
      "    end as money_worries\n",
      "    ,case\n",
      "        when MRACBPI2 = 01\n",
      "        then 0\n",
      "        when MRACBPI2 = 02\n",
      "        then 1\n",
      "        when MRACBPI2 = 0\n",
      "        then null\n",
      "        else 3\n",
      "    end as race\n",
      "    ,case\n",
      "        when CHDEV = 1\n",
      "        then 1\n",
      "        when CHDEV = 2\n",
      "        then 0\n",
      "        else null\n",
      "    end as cornary_disease\n",
      "    ,case\n",
      "        when DOINGLWA = 1\n",
      "            or DOINGLWA = 3\n",
      "        then 1\n",
      "        when DOINGLWA = 5\n",
      "        then 0\n",
      "        else null\n",
      "    end as employed\n",
      "    ,case \n",
      "        when HOURPDA = 1\n",
      "        then 1\n",
      "        when HOURPDA = 2\n",
      "        then 0\n",
      "        else null\n",
      "    end as hourly\n",
      "    ,case\n",
      "        when ASIMUCH = 7\n",
      "            or ASIMUCH = 8\n",
      "            or ASIMUCH = 9\n",
      "        then null\n",
      "        when ASIMUCH = 1\n",
      "        then 1\n",
      "        when ASIMUCH = 2\n",
      "        then 2\n",
      "        when ASIMUCH = 3\n",
      "        then 3\n",
      "        when ASIMUCH = 4\n",
      "        then 4\n",
      "        else 5\n",
      "    end as emotional\n",
      "    ,case\n",
      "        when ASISAD = 1\n",
      "            or ASISAD = 2\n",
      "            or ASISAD = 3\n",
      "            or ASINERV = 1\n",
      "            or ASINERV = 2\n",
      "            or ASINERV = 3\n",
      "            or ASIHOPLS = 1\n",
      "            or ASIHOPLS = 2\n",
      "            or ASIHOPLS = 3\n",
      "            or ASIWTHLS = 1\n",
      "            or ASIWTHLS = 2\n",
      "            or ASIWTHLS = 3\n",
      "        then 1\n",
      "        when ASISAD = 4\n",
      "            or ASISAD = 5\n",
      "            or ASINERV = 4\n",
      "            or ASINERV = 5\n",
      "            or ASIHOPLS = 4\n",
      "            or ASIHOPLS = 5\n",
      "            or ASIWTHLS = 4\n",
      "            or ASIWTHLS = 4\n",
      "        then 0\n",
      "        else null\n",
      "    end as stress\n",
      "    ,case\n",
      "        when REGION = 0 \n",
      "        then null\n",
      "        else REGION\n",
      "    end region\n",
      "    ,case \n",
      "        when SEX = 0\n",
      "        then null\n",
      "        else SEX\n",
      "    end as sex\n",
      "    ,case \n",
      "        when AGE_P = 0\n",
      "        then null\n",
      "        else AGE_P\n",
      "    end as age\n",
      "    ,case \n",
      "        when BMI = 0\n",
      "        then null\n",
      "        else BMI\n",
      "    end as bmi\n",
      "    ,case \n",
      "        when WRKCATA = 0\n",
      "            or WRKCATA = 6\n",
      "            or WRKCATA = 7\n",
      "            or WRKCATA = 8\n",
      "            or WRKCATA = 9\n",
      "        then null\n",
      "        when WRKCATA = 2\n",
      "            or WRKCATA = 3\n",
      "            or WRKCATA = 4\n",
      "        then 0\n",
      "        when WRKCATA = 5\n",
      "        then 2\n",
      "        else WRKCATA\n",
      "    end as emp_kind \n",
      "    /*,ASITENUR */\n",
      "FROM nhis2013adult \"\"\")\n",
      "rows = cursor.fetchall()\n",
      "desc = cursor.description"
     ],
     "language": "python",
     "metadata": {},
     "outputs": [],
     "prompt_number": 201
    },
    {
     "cell_type": "code",
     "collapsed": false,
     "input": [
      "headers = [ seq[0] for seq in desc ]"
     ],
     "language": "python",
     "metadata": {},
     "outputs": [],
     "prompt_number": 202
    },
    {
     "cell_type": "code",
     "collapsed": false,
     "input": [
      "data = []\n",
      "for row in rows:\n",
      "    data.append(list(row))"
     ],
     "language": "python",
     "metadata": {},
     "outputs": [],
     "prompt_number": 203
    },
    {
     "cell_type": "code",
     "collapsed": false,
     "input": [
      "import pandas as pd\n",
      "import numpy as np"
     ],
     "language": "python",
     "metadata": {},
     "outputs": [],
     "prompt_number": 204
    },
    {
     "cell_type": "code",
     "collapsed": false,
     "input": [
      "extended = pd.DataFrame(data, columns = headers)"
     ],
     "language": "python",
     "metadata": {},
     "outputs": [],
     "prompt_number": 205
    },
    {
     "cell_type": "code",
     "collapsed": false,
     "input": [
      "len(extended)"
     ],
     "language": "python",
     "metadata": {},
     "outputs": [
      {
       "metadata": {},
       "output_type": "pyout",
       "prompt_number": 206,
       "text": [
        "34557"
       ]
      }
     ],
     "prompt_number": 206
    },
    {
     "cell_type": "code",
     "collapsed": false,
     "input": [
      "clean_extended = extended.dropna(how='any')"
     ],
     "language": "python",
     "metadata": {},
     "outputs": [],
     "prompt_number": 207
    },
    {
     "cell_type": "code",
     "collapsed": false,
     "input": [
      "len(clean_extended)"
     ],
     "language": "python",
     "metadata": {},
     "outputs": [
      {
       "metadata": {},
       "output_type": "pyout",
       "prompt_number": 208,
       "text": [
        "29337"
       ]
      }
     ],
     "prompt_number": 208
    },
    {
     "cell_type": "code",
     "collapsed": false,
     "input": [
      "new_test = clean_extended[ (clean_extended.emotional) == 5 ]"
     ],
     "language": "python",
     "metadata": {},
     "outputs": [],
     "prompt_number": 212
    },
    {
     "cell_type": "code",
     "collapsed": false,
     "input": [
      "new_training = clean_extended[ (clean_extended.emotional)!= 5 ]"
     ],
     "language": "python",
     "metadata": {},
     "outputs": [],
     "prompt_number": 214
    },
    {
     "cell_type": "code",
     "collapsed": false,
     "input": [
      "len(new_training)"
     ],
     "language": "python",
     "metadata": {},
     "outputs": [
      {
       "metadata": {},
       "output_type": "pyout",
       "prompt_number": 215,
       "text": [
        "9866"
       ]
      }
     ],
     "prompt_number": 215
    },
    {
     "cell_type": "code",
     "collapsed": false,
     "input": [
      "heart_data = pd.DataFrame(data, columns = headers)"
     ],
     "language": "python",
     "metadata": {},
     "outputs": [],
     "prompt_number": 177
    },
    {
     "cell_type": "code",
     "collapsed": false,
     "input": [],
     "language": "python",
     "metadata": {},
     "outputs": []
    },
    {
     "cell_type": "code",
     "collapsed": false,
     "input": [
      "# for elem in heart_data.emotional:\n",
      "#     if pd.isnull(elem):\n",
      "#         print 'yes'\n",
      "    "
     ],
     "language": "python",
     "metadata": {},
     "outputs": [],
     "prompt_number": 179
    },
    {
     "cell_type": "code",
     "collapsed": false,
     "input": [],
     "language": "python",
     "metadata": {},
     "outputs": [],
     "prompt_number": 216
    },
    {
     "cell_type": "code",
     "collapsed": false,
     "input": [
      "# for column in heart_data:\n",
      "#     print column, heart_data[column].value_counts(dropna=False)"
     ],
     "language": "python",
     "metadata": {},
     "outputs": [],
     "prompt_number": 216
    },
    {
     "cell_type": "code",
     "collapsed": false,
     "input": [
      "clean_heart = heart_data.dropna(how='any')"
     ],
     "language": "python",
     "metadata": {},
     "outputs": [],
     "prompt_number": 144
    },
    {
     "cell_type": "code",
     "collapsed": false,
     "input": [],
     "language": "python",
     "metadata": {},
     "outputs": [],
     "prompt_number": 216
    },
    {
     "cell_type": "code",
     "collapsed": false,
     "input": [
      "#clean_heart.to_csv('heart.csv', sep=',', encoding='utf-8')"
     ],
     "language": "python",
     "metadata": {},
     "outputs": [],
     "prompt_number": 14
    },
    {
     "cell_type": "code",
     "collapsed": false,
     "input": [],
     "language": "python",
     "metadata": {},
     "outputs": [],
     "prompt_number": 216
    },
    {
     "cell_type": "code",
     "collapsed": false,
     "input": [
      "import pickle\n",
      "with open('with_emo.pck', 'w') as picklefile:\n",
      "    pickle.dump(clean_heart, picklefile)"
     ],
     "language": "python",
     "metadata": {},
     "outputs": [],
     "prompt_number": 146
    },
    {
     "cell_type": "code",
     "collapsed": false,
     "input": [
      "#heart = clean_heart.drop('WRKCATA', 1)"
     ],
     "language": "python",
     "metadata": {},
     "outputs": [],
     "prompt_number": 41
    },
    {
     "cell_type": "code",
     "collapsed": false,
     "input": [
      "#heart.drop('ASITENUR', 1, inplace = True)"
     ],
     "language": "python",
     "metadata": {},
     "outputs": [],
     "prompt_number": 42
    },
    {
     "cell_type": "code",
     "collapsed": false,
     "input": [
      "import suplearning"
     ],
     "language": "python",
     "metadata": {},
     "outputs": [],
     "prompt_number": 45
    },
    {
     "cell_type": "code",
     "collapsed": false,
     "input": [
      "%matplotlib inline\n",
      "import matplotlib.pyplot as plt"
     ],
     "language": "python",
     "metadata": {},
     "outputs": [],
     "prompt_number": 44
    },
    {
     "cell_type": "code",
     "collapsed": false,
     "input": [],
     "language": "python",
     "metadata": {},
     "outputs": [],
     "prompt_number": 18
    },
    {
     "cell_type": "code",
     "collapsed": false,
     "input": [
      "clean_heart.groupby(['all_heart'])['all_heart'].count().plot(kind='bar',figsize=(15, 4), grid=False, alpha=0.5)"
     ],
     "language": "python",
     "metadata": {},
     "outputs": [
      {
       "metadata": {},
       "output_type": "pyout",
       "prompt_number": 46,
       "text": [
        "<matplotlib.axes.AxesSubplot at 0x10cde9f50>"
       ]
      },
      {
       "metadata": {},
       "output_type": "display_data",
       "png": "[encoded data removed]",
       "text": [
        "<matplotlib.figure.Figure at 0x10cde9a50>"
       ]
      }
     ],
     "prompt_number": 46
    },
    {
     "cell_type": "code",
     "collapsed": false,
     "input": [
      "clean_heart.groupby(['cornary_disease'])['cornary_disease'].count().plot(kind='bar',figsize=(15, 4), grid=False, alpha=0.5)"
     ],
     "language": "python",
     "metadata": {},
     "outputs": [
      {
       "metadata": {},
       "output_type": "pyout",
       "prompt_number": 47,
       "text": [
        "<matplotlib.axes.AxesSubplot at 0x10cee0490>"
       ]
      },
      {
       "metadata": {},
       "output_type": "display_data",
       "png": "[encoded data removed]",
       "text": [
        "<matplotlib.figure.Figure at 0x10d09d410>"
       ]
      }
     ],
     "prompt_number": 47
    },
    {
     "cell_type": "code",
     "collapsed": false,
     "input": [
      "clean_heart[['all_heart']] = clean_heart[['all_heart']].astype(float)\n",
      "clean_heart[['gets_exercise','cholesterol','ever_smoked', 'drink', 'partnered', 'money_worries', 'race', 'cornary_disease','employed','hourly','stress','region', 'sex', 'age','bmi','emp_kind']]= clean_heart[['gets_exercise','cholesterol','ever_smoked', 'drink', 'partnered', 'money_worries', 'race', 'cornary_disease','employed','hourly','stress','region', 'sex', 'age','bmi', 'emp_kind']].astype(float)"
     ],
     "language": "python",
     "metadata": {},
     "outputs": [],
     "prompt_number": 119
    },
    {
     "cell_type": "code",
     "collapsed": false,
     "input": [
      "ydata = clean_heart[['all_heart']]\n",
      "Xdata = clean_heart[['gets_exercise','cholesterol','ever_smoked', 'drink', 'partnered', 'money_worries', 'race', 'employed', 'hourly','stress','region', 'sex', 'age','bmi', 'emp_kind']]"
     ],
     "language": "python",
     "metadata": {},
     "outputs": [],
     "prompt_number": 120
    },
    {
     "cell_type": "code",
     "collapsed": false,
     "input": [
      "new_disease = suplearning.Classifiers(Xdata, ydata, scale=True)\n",
      "new_disease.do_modeling_all()"
     ],
     "language": "python",
     "metadata": {},
     "outputs": [
      {
       "output_type": "stream",
       "stream": "stdout",
       "text": [
        "=========================================================\n",
        "KNeighborsClassifier\n",
        "Accuracy Score: 0.7483"
       ]
      },
      {
       "output_type": "stream",
       "stream": "stdout",
       "text": [
        "\n",
        "             precision    recall  f1-score   support\n",
        "\n",
        "        0.0       0.79      0.86      0.83      5097\n",
        "        1.0       0.61      0.49      0.54      2242\n",
        "\n",
        "avg / total       0.74      0.75      0.74      7339\n",
        "\n",
        "AUC = 0.752"
       ]
      },
      {
       "output_type": "stream",
       "stream": "stderr",
       "text": [
        "suplearning.py:1: DataConversionWarning: A column-vector y was passed when a 1d array was expected. Please change the shape of y to (n_samples, ), for example using ravel().\n",
        "  \"\"\" This module is meant to automate supervised learning tasks and tests.\n",
        "/usr/local/lib/python2.7/site-packages/sklearn/naive_bayes.py:150: DataConversionWarning: A column-vector y was passed when a 1d array was expected. Please change the shape of y to (n_samples, ), for example using ravel().\n",
        "  y = column_or_1d(y, warn=True)\n"
       ]
      },
      {
       "output_type": "stream",
       "stream": "stdout",
       "text": [
        "\n",
        "=========================================================\n",
        "GaussianNB\n",
        "Accuracy Score: 0.7550\n",
        "             precision    recall  f1-score   support\n",
        "\n",
        "        0.0       0.84      0.80      0.82      5097\n",
        "        1.0       0.59      0.66      0.62      2242\n",
        "\n",
        "avg / total       0.76      0.76      0.76      7339\n",
        "\n",
        "AUC = 0.807\n",
        "=========================================================\n",
        "RandomForestClassifier\n",
        "Accuracy Score: 0.7614"
       ]
      },
      {
       "output_type": "stream",
       "stream": "stderr",
       "text": [
        "suplearning.py:1: DataConversionWarning: A column-vector y was passed when a 1d array was expected. Please change the shape of y to (n_samples, ), for example using ravel().\n",
        "  \"\"\" This module is meant to automate supervised learning tasks and tests.\n",
        "/usr/local/lib/python2.7/site-packages/sklearn/preprocessing/label.py:125: DataConversionWarning: A column-vector y was passed when a 1d array was expected. Please change the shape of y to (n_samples, ), for example using ravel().\n",
        "  y = column_or_1d(y, warn=True)\n"
       ]
      },
      {
       "output_type": "stream",
       "stream": "stdout",
       "text": [
        "\n",
        "             precision    recall  f1-score   support\n",
        "\n",
        "        0.0       0.79      0.89      0.84      5097\n",
        "        1.0       0.65      0.47      0.54      2242\n",
        "\n",
        "avg / total       0.75      0.76      0.75      7339\n",
        "\n",
        "AUC = 0.782\n",
        "=========================================================\n",
        "LogisticRegression\n",
        "Accuracy Score: 0.7767"
       ]
      },
      {
       "output_type": "stream",
       "stream": "stdout",
       "text": [
        "\n",
        "             precision    recall  f1-score   support\n",
        "\n",
        "        0.0       0.81      0.89      0.85      5097\n",
        "        1.0       0.67      0.52      0.59      2242\n",
        "\n",
        "avg / total       0.77      0.78      0.77      7339\n",
        "\n",
        "AUC = 0.821\n",
        "=========================================================\n",
        "BernoulliNB\n",
        "Accuracy Score: 0.7648\n",
        "             precision    recall  f1-score   support\n",
        "\n",
        "        0.0       0.83      0.83      0.83      5097\n",
        "        1.0       0.62      0.61      0.61      2242\n",
        "\n",
        "avg / total       0.76      0.76      0.76      7339\n",
        "\n",
        "AUC = 0.806\n",
        "=========================================================\n",
        "DecisionTreeClassifier\n",
        "Accuracy Score: 0.7002"
       ]
      },
      {
       "output_type": "stream",
       "stream": "stderr",
       "text": [
        "/usr/local/lib/python2.7/site-packages/sklearn/naive_bayes.py:301: DataConversionWarning: A column-vector y was passed when a 1d array was expected. Please change the shape of y to (n_samples, ), for example using ravel().\n",
        "  y = column_or_1d(y, warn=True)\n",
        "/usr/local/lib/python2.7/site-packages/sklearn/svm/base.py:441: DataConversionWarning: A column-vector y was passed when a 1d array was expected. Please change the shape of y to (n_samples, ), for example using ravel().\n",
        "  y_ = column_or_1d(y, warn=True)\n"
       ]
      },
      {
       "output_type": "stream",
       "stream": "stdout",
       "text": [
        "\n",
        "             precision    recall  f1-score   support\n",
        "\n",
        "        0.0       0.79      0.78      0.78      5097\n",
        "        1.0       0.51      0.52      0.51      2242\n",
        "\n",
        "avg / total       0.70      0.70      0.70      7339\n",
        "\n",
        "AUC = 0.648\n",
        "=========================================================\n",
        "SVC\n",
        "Accuracy Score: 0.7767"
       ]
      },
      {
       "output_type": "stream",
       "stream": "stdout",
       "text": [
        "\n",
        "             precision    recall  f1-score   support\n",
        "\n",
        "        0.0       0.81      0.89      0.85      5097\n",
        "        1.0       0.68      0.52      0.59      2242\n",
        "\n",
        "avg / total       0.77      0.78      0.77      7339\n",
        "\n",
        "AUC = 0.797"
       ]
      },
      {
       "output_type": "stream",
       "stream": "stdout",
       "text": [
        "\n"
       ]
      },
      {
       "metadata": {},
       "output_type": "display_data",
       "png": "[encoded data removed]",
       "text": [
        "<matplotlib.figure.Figure at 0x10d105590>"
       ]
      }
     ],
     "prompt_number": 121
    },
    {
     "cell_type": "markdown",
     "metadata": {},
     "source": [
      "train to predict emotion"
     ]
    },
    {
     "cell_type": "code",
     "collapsed": false,
     "input": [
      "#new_training[['all_heart']] = clean_heart[['all_heart']].astype(float)\n",
      "new_training[['gets_exercise','cholesterol','ever_smoked', 'drink', 'partnered', 'money_worries', 'race', 'cornary_disease','employed','hourly','stress', 'emotional', 'region', 'sex', 'age','bmi','emp_kind']]= new_training[['gets_exercise','cholesterol','ever_smoked', 'drink', 'partnered', 'money_worries', 'race', 'cornary_disease','employed','hourly','stress', 'emotional','region', 'sex', 'age','bmi', 'emp_kind']].astype(float)"
     ],
     "language": "python",
     "metadata": {},
     "outputs": [],
     "prompt_number": 217
    },
    {
     "cell_type": "code",
     "collapsed": false,
     "input": [],
     "language": "python",
     "metadata": {},
     "outputs": []
    },
    {
     "cell_type": "code",
     "collapsed": false,
     "input": [],
     "language": "python",
     "metadata": {},
     "outputs": []
    },
    {
     "cell_type": "code",
     "collapsed": false,
     "input": [],
     "language": "python",
     "metadata": {},
     "outputs": []
    },
    {
     "cell_type": "code",
     "collapsed": false,
     "input": [
      "#disease = suplearning.Classifiers(Xdata, ydata, scale=True)"
     ],
     "language": "python",
     "metadata": {},
     "outputs": [],
     "prompt_number": 119
    },
    {
     "cell_type": "code",
     "collapsed": false,
     "input": [
      "#disease.do_modeling_all()"
     ],
     "language": "python",
     "metadata": {},
     "outputs": [],
     "prompt_number": 76
    },
    {
     "cell_type": "code",
     "collapsed": false,
     "input": [
      "from sklearn.feature_selection import SelectKBest\n",
      "from sklearn.feature_selection import chi2\n",
      "X_new = SelectKBest(chi2, k=3).fit_transform(Xdata, ydata)"
     ],
     "language": "python",
     "metadata": {},
     "outputs": [],
     "prompt_number": 172
    },
    {
     "cell_type": "code",
     "collapsed": false,
     "input": [
      "#X_new"
     ],
     "language": "python",
     "metadata": {},
     "outputs": [],
     "prompt_number": 63
    },
    {
     "cell_type": "code",
     "collapsed": false,
     "input": [
      "#disease_chi = suplearning.Classifiers(X_new, ydata, scale=True)"
     ],
     "language": "python",
     "metadata": {},
     "outputs": [],
     "prompt_number": 64
    },
    {
     "cell_type": "code",
     "collapsed": false,
     "input": [
      "#disease_chi.do_modeling_all()"
     ],
     "language": "python",
     "metadata": {},
     "outputs": [],
     "prompt_number": 65
    },
    {
     "cell_type": "markdown",
     "metadata": {},
     "source": [
      "just coronary disease"
     ]
    },
    {
     "cell_type": "code",
     "collapsed": false,
     "input": [
      "y_2_data = clean_heart[['cornary_disease']]\n",
      "X_2_data = clean_heart[['gets_exercise','cholesterol','ever_smoked', 'drink', 'partnered', 'money_worries', 'race', 'employed', 'hourly','stress','region', 'sex', 'age','bmi', 'emp_kind']]"
     ],
     "language": "python",
     "metadata": {},
     "outputs": [],
     "prompt_number": 122
    },
    {
     "cell_type": "code",
     "collapsed": false,
     "input": [
      "disease_2 = suplearning.Classifiers(X_2_data, y_2_data, scale=True)"
     ],
     "language": "python",
     "metadata": {},
     "outputs": [],
     "prompt_number": 123
    },
    {
     "cell_type": "code",
     "collapsed": false,
     "input": [
      "disease_2.do_modeling_all()"
     ],
     "language": "python",
     "metadata": {},
     "outputs": [
      {
       "output_type": "stream",
       "stream": "stdout",
       "text": [
        "=========================================================\n",
        "KNeighborsClassifier\n",
        "Accuracy Score: 0.9444"
       ]
      },
      {
       "output_type": "stream",
       "stream": "stdout",
       "text": [
        "\n",
        "             precision    recall  f1-score   support\n",
        "\n",
        "        0.0       0.95      0.99      0.97      6965\n",
        "        1.0       0.29      0.06      0.11       374\n",
        "\n",
        "avg / total       0.92      0.94      0.93      7339\n",
        "\n",
        "AUC = 0.699"
       ]
      },
      {
       "output_type": "stream",
       "stream": "stderr",
       "text": [
        "suplearning.py:1: DataConversionWarning: A column-vector y was passed when a 1d array was expected. Please change the shape of y to (n_samples, ), for example using ravel().\n",
        "  \"\"\" This module is meant to automate supervised learning tasks and tests.\n",
        "/usr/local/lib/python2.7/site-packages/sklearn/naive_bayes.py:150: DataConversionWarning: A column-vector y was passed when a 1d array was expected. Please change the shape of y to (n_samples, ), for example using ravel().\n",
        "  y = column_or_1d(y, warn=True)\n"
       ]
      },
      {
       "output_type": "stream",
       "stream": "stdout",
       "text": [
        "\n",
        "=========================================================\n",
        "GaussianNB\n",
        "Accuracy Score: 0.8948\n",
        "             precision    recall  f1-score   support\n",
        "\n",
        "        0.0       0.97      0.92      0.94      6965\n",
        "        1.0       0.23      0.46      0.31       374\n",
        "\n",
        "avg / total       0.93      0.89      0.91      7339\n",
        "\n",
        "AUC = 0.856\n",
        "=========================================================\n",
        "RandomForestClassifier\n",
        "Accuracy Score: 0.9440"
       ]
      },
      {
       "output_type": "stream",
       "stream": "stderr",
       "text": [
        "suplearning.py:1: DataConversionWarning: A column-vector y was passed when a 1d array was expected. Please change the shape of y to (n_samples, ), for example using ravel().\n",
        "  \"\"\" This module is meant to automate supervised learning tasks and tests.\n",
        "/usr/local/lib/python2.7/site-packages/sklearn/preprocessing/label.py:125: DataConversionWarning: A column-vector y was passed when a 1d array was expected. Please change the shape of y to (n_samples, ), for example using ravel().\n",
        "  y = column_or_1d(y, warn=True)\n"
       ]
      },
      {
       "output_type": "stream",
       "stream": "stdout",
       "text": [
        "\n",
        "             precision    recall  f1-score   support\n",
        "\n",
        "        0.0       0.95      0.99      0.97      6965\n",
        "        1.0       0.19      0.03      0.05       374\n",
        "\n",
        "avg / total       0.91      0.94      0.92      7339\n",
        "\n",
        "AUC = 0.755\n",
        "=========================================================\n",
        "LogisticRegression\n",
        "Accuracy Score: 0.9477"
       ]
      },
      {
       "output_type": "stream",
       "stream": "stdout",
       "text": [
        "\n",
        "             precision    recall  f1-score   support\n",
        "\n",
        "        0.0       0.95      1.00      0.97      6965\n",
        "        1.0       0.19      0.01      0.02       374\n",
        "\n",
        "avg / total       0.91      0.95      0.92      7339\n",
        "\n",
        "AUC = 0.863\n",
        "=========================================================\n",
        "BernoulliNB\n",
        "Accuracy Score: 0.9185\n",
        "             precision    recall  f1-score   support\n",
        "\n",
        "        0.0       0.96      0.95      0.96      6965\n",
        "        1.0       0.27      0.35      0.31       374\n",
        "\n",
        "avg / total       0.93      0.92      0.92      7339\n",
        "\n",
        "AUC = 0.853\n",
        "=========================================================\n",
        "DecisionTreeClassifier\n",
        "Accuracy Score: 0.9053"
       ]
      },
      {
       "output_type": "stream",
       "stream": "stderr",
       "text": [
        "/usr/local/lib/python2.7/site-packages/sklearn/naive_bayes.py:301: DataConversionWarning: A column-vector y was passed when a 1d array was expected. Please change the shape of y to (n_samples, ), for example using ravel().\n",
        "  y = column_or_1d(y, warn=True)\n",
        "/usr/local/lib/python2.7/site-packages/sklearn/svm/base.py:441: DataConversionWarning: A column-vector y was passed when a 1d array was expected. Please change the shape of y to (n_samples, ), for example using ravel().\n",
        "  y_ = column_or_1d(y, warn=True)\n"
       ]
      },
      {
       "output_type": "stream",
       "stream": "stdout",
       "text": [
        "\n",
        "             precision    recall  f1-score   support\n",
        "\n",
        "        0.0       0.96      0.94      0.95      6965\n",
        "        1.0       0.15      0.19      0.17       374\n",
        "\n",
        "avg / total       0.91      0.91      0.91      7339\n",
        "\n",
        "AUC = 0.565\n",
        "=========================================================\n",
        "SVC\n",
        "Accuracy Score: 0.9490"
       ]
      },
      {
       "output_type": "stream",
       "stream": "stdout",
       "text": [
        "\n",
        "             precision    recall  f1-score   support\n",
        "\n",
        "        0.0       0.95      1.00      0.97      6965\n",
        "        1.0       0.00      0.00      0.00       374\n",
        "\n",
        "avg / total       0.90      0.95      0.92      7339\n",
        "\n",
        "AUC = 0.748"
       ]
      },
      {
       "output_type": "stream",
       "stream": "stdout",
       "text": [
        "\n"
       ]
      },
      {
       "metadata": {},
       "output_type": "display_data",
       "png": "[encoded data removed]",
       "text": [
        "<matplotlib.figure.Figure at 0x10cf3ffd0>"
       ]
      }
     ],
     "prompt_number": 124
    },
    {
     "cell_type": "markdown",
     "metadata": {},
     "source": [
      "less features"
     ]
    },
    {
     "cell_type": "code",
     "collapsed": false,
     "input": [
      "y_3_data = clean_heart[['all_heart']]\n",
      "X_3_data = clean_heart[['gets_exercise','ever_smoked', 'drink', 'partnered', 'money_worries','employed', 'hourly','stress', 'emp_kind']]"
     ],
     "language": "python",
     "metadata": {},
     "outputs": [],
     "prompt_number": 125
    },
    {
     "cell_type": "code",
     "collapsed": false,
     "input": [
      "disease_3 = suplearning.Classifiers(X_3_data, y_3_data, scale=True)\n",
      "disease_3.do_modeling_all()"
     ],
     "language": "python",
     "metadata": {},
     "outputs": [
      {
       "output_type": "stream",
       "stream": "stdout",
       "text": [
        "=========================================================\n",
        "KNeighborsClassifier\n",
        "Accuracy Score: 0.6735"
       ]
      },
      {
       "output_type": "stream",
       "stream": "stdout",
       "text": [
        "\n",
        "             precision    recall  f1-score   support\n",
        "\n",
        "        0.0       0.75      0.81      0.78      5158\n",
        "        1.0       0.44      0.36      0.39      2181\n",
        "\n",
        "avg / total       0.66      0.67      0.66      7339\n",
        "\n",
        "AUC = 0.635"
       ]
      },
      {
       "output_type": "stream",
       "stream": "stderr",
       "text": [
        "suplearning.py:1: DataConversionWarning: A column-vector y was passed when a 1d array was expected. Please change the shape of y to (n_samples, ), for example using ravel().\n",
        "  \"\"\" This module is meant to automate supervised learning tasks and tests.\n",
        "/usr/local/lib/python2.7/site-packages/sklearn/naive_bayes.py:150: DataConversionWarning: A column-vector y was passed when a 1d array was expected. Please change the shape of y to (n_samples, ), for example using ravel().\n",
        "  y = column_or_1d(y, warn=True)\n"
       ]
      },
      {
       "output_type": "stream",
       "stream": "stdout",
       "text": [
        "\n",
        "=========================================================\n",
        "GaussianNB\n",
        "Accuracy Score: 0.7230\n",
        "             precision    recall  f1-score   support\n",
        "\n",
        "        0.0       0.79      0.83      0.81      5158\n",
        "        1.0       0.54      0.48      0.50      2181\n",
        "\n",
        "avg / total       0.71      0.72      0.72      7339\n",
        "\n",
        "AUC = 0.711\n",
        "=========================================================\n",
        "RandomForestClassifier\n",
        "Accuracy Score: 0.7242"
       ]
      },
      {
       "output_type": "stream",
       "stream": "stderr",
       "text": [
        "suplearning.py:1: DataConversionWarning: A column-vector y was passed when a 1d array was expected. Please change the shape of y to (n_samples, ), for example using ravel().\n",
        "  \"\"\" This module is meant to automate supervised learning tasks and tests.\n",
        "/usr/local/lib/python2.7/site-packages/sklearn/preprocessing/label.py:125: DataConversionWarning: A column-vector y was passed when a 1d array was expected. Please change the shape of y to (n_samples, ), for example using ravel().\n",
        "  y = column_or_1d(y, warn=True)\n"
       ]
      },
      {
       "output_type": "stream",
       "stream": "stdout",
       "text": [
        "\n",
        "             precision    recall  f1-score   support\n",
        "\n",
        "        0.0       0.77      0.87      0.82      5158\n",
        "        1.0       0.55      0.39      0.46      2181\n",
        "\n",
        "avg / total       0.71      0.72      0.71      7339\n",
        "\n",
        "AUC = 0.699\n",
        "=========================================================\n",
        "LogisticRegression\n",
        "Accuracy Score: 0.7314\n",
        "             precision    recall  f1-score   support\n",
        "\n",
        "        0.0       0.77      0.89      0.82      5158\n",
        "        1.0       0.58      0.36      0.44      2181\n",
        "\n",
        "avg / total       0.71      0.73      0.71      7339\n",
        "\n",
        "AUC = 0.713"
       ]
      },
      {
       "output_type": "stream",
       "stream": "stdout",
       "text": [
        "\n",
        "=========================================================\n",
        "BernoulliNB\n",
        "Accuracy Score: 0.7329\n",
        "             precision    recall  f1-score   support\n",
        "\n",
        "        0.0       0.78      0.86      0.82      5158\n",
        "        1.0       0.57      0.44      0.49      2181\n",
        "\n",
        "avg / total       0.72      0.73      0.72      7339\n",
        "\n",
        "AUC = 0.712\n",
        "=========================================================\n",
        "DecisionTreeClassifier\n",
        "Accuracy Score: 0.7238"
       ]
      },
      {
       "output_type": "stream",
       "stream": "stderr",
       "text": [
        "/usr/local/lib/python2.7/site-packages/sklearn/naive_bayes.py:301: DataConversionWarning: A column-vector y was passed when a 1d array was expected. Please change the shape of y to (n_samples, ), for example using ravel().\n",
        "  y = column_or_1d(y, warn=True)\n",
        "/usr/local/lib/python2.7/site-packages/sklearn/svm/base.py:441: DataConversionWarning: A column-vector y was passed when a 1d array was expected. Please change the shape of y to (n_samples, ), for example using ravel().\n",
        "  y_ = column_or_1d(y, warn=True)\n"
       ]
      },
      {
       "output_type": "stream",
       "stream": "stdout",
       "text": [
        "\n",
        "             precision    recall  f1-score   support\n",
        "\n",
        "        0.0       0.77      0.87      0.82      5158\n",
        "        1.0       0.55      0.39      0.45      2181\n",
        "\n",
        "avg / total       0.70      0.72      0.71      7339\n",
        "\n",
        "AUC = 0.695\n",
        "=========================================================\n",
        "SVC\n",
        "Accuracy Score: 0.7310"
       ]
      },
      {
       "output_type": "stream",
       "stream": "stdout",
       "text": [
        "\n",
        "             precision    recall  f1-score   support\n",
        "\n",
        "        0.0       0.78      0.87      0.82      5158\n",
        "        1.0       0.57      0.41      0.47      2181\n",
        "\n",
        "avg / total       0.71      0.73      0.72      7339\n",
        "\n",
        "AUC = 0.664"
       ]
      },
      {
       "output_type": "stream",
       "stream": "stdout",
       "text": [
        "\n"
       ]
      },
      {
       "metadata": {},
       "output_type": "display_data",
       "png": "[encoded data removed]",
       "text": [
        "<matplotlib.figure.Figure at 0x10d26fe50>"
       ]
      }
     ],
     "prompt_number": 126
    },
    {
     "cell_type": "code",
     "collapsed": false,
     "input": [],
     "language": "python",
     "metadata": {},
     "outputs": [],
     "prompt_number": 125
    },
    {
     "cell_type": "code",
     "collapsed": false,
     "input": [
      "y_4_data = clean_heart[['all_heart']]\n",
      "X_4_data = clean_heart[['bmi','age','sex']]"
     ],
     "language": "python",
     "metadata": {},
     "outputs": [],
     "prompt_number": 79
    },
    {
     "cell_type": "code",
     "collapsed": false,
     "input": [
      "disease_4 = suplearning.Classifiers(X_4_data, y_4_data, scale=True)\n",
      "disease_4.do_modeling_all()"
     ],
     "language": "python",
     "metadata": {},
     "outputs": [
      {
       "output_type": "stream",
       "stream": "stdout",
       "text": [
        "=========================================================\n",
        "KNeighborsClassifier\n",
        "Accuracy Score: 0.7260\n",
        "             precision    recall  f1-score   support\n",
        "\n",
        "        0.0       0.78      0.82      0.80      1624\n",
        "        1.0       0.62      0.55      0.58       858\n",
        "\n",
        "avg / total       0.72      0.73      0.72      2482\n",
        "\n",
        "AUC = 0.746\n",
        "=========================================================\n",
        "GaussianNB\n",
        "Accuracy Score: 0.7297\n",
        "             precision    recall  f1-score   support\n",
        "\n",
        "        0.0       0.77      0.85      0.80      1624\n",
        "        1.0       0.64      0.51      0.57       858\n",
        "\n",
        "avg / total       0.72      0.73      0.72      2482\n",
        "\n",
        "AUC = 0.786\n",
        "=========================================================\n",
        "RandomForestClassifier\n",
        "Accuracy Score: 0.7075"
       ]
      },
      {
       "output_type": "stream",
       "stream": "stderr",
       "text": [
        "suplearning.py:1: DataConversionWarning: A column-vector y was passed when a 1d array was expected. Please change the shape of y to (n_samples, ), for example using ravel().\n",
        "  \"\"\" This module is meant to automate supervised learning tasks and tests.\n",
        "/usr/local/lib/python2.7/site-packages/sklearn/naive_bayes.py:150: DataConversionWarning: A column-vector y was passed when a 1d array was expected. Please change the shape of y to (n_samples, ), for example using ravel().\n",
        "  y = column_or_1d(y, warn=True)\n",
        "suplearning.py:1: DataConversionWarning: A column-vector y was passed when a 1d array was expected. Please change the shape of y to (n_samples, ), for example using ravel().\n",
        "  \"\"\" This module is meant to automate supervised learning tasks and tests.\n",
        "/usr/local/lib/python2.7/site-packages/sklearn/preprocessing/label.py:125: DataConversionWarning: A column-vector y was passed when a 1d array was expected. Please change the shape of y to (n_samples, ), for example using ravel().\n",
        "  y = column_or_1d(y, warn=True)\n"
       ]
      },
      {
       "output_type": "stream",
       "stream": "stdout",
       "text": [
        "\n",
        "             precision    recall  f1-score   support\n",
        "\n",
        "        0.0       0.76      0.81      0.78      1624\n",
        "        1.0       0.59      0.52      0.55       858\n",
        "\n",
        "avg / total       0.70      0.71      0.70      2482\n",
        "\n",
        "AUC = 0.733\n",
        "=========================================================\n",
        "LogisticRegression\n",
        "Accuracy Score: 0.7381\n",
        "             precision    recall  f1-score   support\n",
        "\n",
        "        0.0       0.77      0.86      0.81      1624\n",
        "        1.0       0.66      0.51      0.57       858\n",
        "\n",
        "avg / total       0.73      0.74      0.73      2482\n",
        "\n",
        "AUC = 0.787\n",
        "=========================================================\n",
        "BernoulliNB\n",
        "Accuracy Score: 0.7115\n",
        "             precision    recall  f1-score   support\n",
        "\n",
        "        0.0       0.76      0.82      0.79      1624\n",
        "        1.0       0.60      0.51      0.55       858\n",
        "\n",
        "avg / total       0.70      0.71      0.71      2482\n",
        "\n",
        "AUC = 0.756\n",
        "=========================================================\n",
        "DecisionTreeClassifier\n",
        "Accuracy Score: 0.6809\n",
        "             precision    recall  f1-score   support\n",
        "\n",
        "        0.0       0.75      0.78      0.76      1624\n",
        "        1.0       0.54      0.50      0.52       858\n",
        "\n",
        "avg / total       0.68      0.68      0.68      2482\n",
        "\n",
        "AUC = 0.644\n",
        "=========================================================\n",
        "SVC\n",
        "Accuracy Score: 0.7462"
       ]
      },
      {
       "output_type": "stream",
       "stream": "stdout",
       "text": [
        "\n",
        "             precision    recall  f1-score   support\n",
        "\n",
        "        0.0       0.77      0.86      0.82      1624\n",
        "        1.0       0.67      0.52      0.59       858\n",
        "\n",
        "avg / total       0.74      0.75      0.74      2482\n",
        "\n",
        "AUC = 0.779"
       ]
      },
      {
       "output_type": "stream",
       "stream": "stdout",
       "text": [
        "\n"
       ]
      },
      {
       "output_type": "stream",
       "stream": "stderr",
       "text": [
        "/usr/local/lib/python2.7/site-packages/sklearn/naive_bayes.py:301: DataConversionWarning: A column-vector y was passed when a 1d array was expected. Please change the shape of y to (n_samples, ), for example using ravel().\n",
        "  y = column_or_1d(y, warn=True)\n",
        "/usr/local/lib/python2.7/site-packages/sklearn/svm/base.py:441: DataConversionWarning: A column-vector y was passed when a 1d array was expected. Please change the shape of y to (n_samples, ), for example using ravel().\n",
        "  y_ = column_or_1d(y, warn=True)\n"
       ]
      },
      {
       "metadata": {},
       "output_type": "display_data",
       "png": "[encoded data removed]",
       "text": [
        "<matplotlib.figure.Figure at 0x10cf2a310>"
       ]
      }
     ],
     "prompt_number": 80
    },
    {
     "cell_type": "code",
     "collapsed": false,
     "input": [
      "x,y1,y2\n",
      "5,90,22\n",
      "25,30,25\n",
      "45,50,80\n",
      "65,55,9\n",
      "85,25,95"
     ],
     "language": "python",
     "metadata": {},
     "outputs": []
    },
    {
     "cell_type": "code",
     "collapsed": false,
     "input": [
      "x = [[5,90,22], [25,30,25], [45,50,80], [85,25,95]]"
     ],
     "language": "python",
     "metadata": {},
     "outputs": [],
     "prompt_number": 127
    },
    {
     "cell_type": "code",
     "collapsed": false,
     "input": [
      "x"
     ],
     "language": "python",
     "metadata": {},
     "outputs": [
      {
       "metadata": {},
       "output_type": "pyout",
       "prompt_number": 128,
       "text": [
        "[[5, 90, 22], [25, 30, 25], [45, 50, 80], [85, 25, 95]]"
       ]
      }
     ],
     "prompt_number": 128
    },
    {
     "cell_type": "code",
     "collapsed": false,
     "input": [
      "testdata = pd.DataFrame(x, columns=['x', 'y1', 'y2'])"
     ],
     "language": "python",
     "metadata": {},
     "outputs": [],
     "prompt_number": 133
    },
    {
     "cell_type": "code",
     "collapsed": false,
     "input": [
      "testdata"
     ],
     "language": "python",
     "metadata": {},
     "outputs": [
      {
       "html": [
        "<div style=\"max-height:1000px;max-width:1500px;overflow:auto;\">\n",
        "<table border=\"1\" class=\"dataframe\">\n",
        "  <thead>\n",
        "    <tr style=\"text-align: right;\">\n",
        "      <th></th>\n",
        "      <th>x</th>\n",
        "      <th>y1</th>\n",
        "      <th>y2</th>\n",
        "    </tr>\n",
        "  </thead>\n",
        "  <tbody>\n",
        "    <tr>\n",
        "      <th>0</th>\n",
        "      <td>  5</td>\n",
        "      <td> 90</td>\n",
        "      <td> 22</td>\n",
        "    </tr>\n",
        "    <tr>\n",
        "      <th>1</th>\n",
        "      <td> 25</td>\n",
        "      <td> 30</td>\n",
        "      <td> 25</td>\n",
        "    </tr>\n",
        "    <tr>\n",
        "      <th>2</th>\n",
        "      <td> 45</td>\n",
        "      <td> 50</td>\n",
        "      <td> 80</td>\n",
        "    </tr>\n",
        "    <tr>\n",
        "      <th>3</th>\n",
        "      <td> 85</td>\n",
        "      <td> 25</td>\n",
        "      <td> 95</td>\n",
        "    </tr>\n",
        "  </tbody>\n",
        "</table>\n",
        "</div>"
       ],
       "metadata": {},
       "output_type": "pyout",
       "prompt_number": 134,
       "text": [
        "    x  y1  y2\n",
        "0   5  90  22\n",
        "1  25  30  25\n",
        "2  45  50  80\n",
        "3  85  25  95"
       ]
      }
     ],
     "prompt_number": 134
    },
    {
     "cell_type": "code",
     "collapsed": false,
     "input": [
      "import numpy as np\n",
      "N = 5\n",
      "menMeans   = (35, 35, 30, 35, 27)\n",
      "womenMeans = (26, 32, 34, 20, 25)\n",
      "menStd     = (2, 3, 4, 1, 2)\n",
      "womenStd   = (3, 5, 2, 3, 3)\n",
      "ind = np.arange(N)    # the x locations for the groups\n",
      "width = 0.35       # the width of the bars: can also be len(x) sequence\n",
      "\n",
      "p1 = plt.bar(ind, menMeans,   width, color='r', yerr=womenStd)\n",
      "p2 = plt.bar(ind, womenMeans, width, color='y',\n",
      "             bottom=menMeans, yerr=menStd)\n",
      "\n",
      "plt.ylabel('Scores')\n",
      "plt.title('Scores by group and gender')\n",
      "plt.xticks(ind+width/2., ('G1', 'G2', 'G3', 'G4', 'G5') )\n",
      "plt.yticks(np.arange(0,81,10))\n",
      "plt.legend( (p1[0], p2[0]), ('Men', 'Women') )\n",
      "\n",
      "plt.show()"
     ],
     "language": "python",
     "metadata": {},
     "outputs": [
      {
       "metadata": {},
       "output_type": "display_data",
       "png": "[encoded data removed]",
       "text": [
        "<matplotlib.figure.Figure at 0x105c8c690>"
       ]
      }
     ],
     "prompt_number": 224
    },
    {
     "cell_type": "code",
     "collapsed": false,
     "input": [
      "N = 2\n",
      "cornary   = (6, 4)\n",
      "all_heart = (29, 12)\n",
      "#menStd     = (2, 3, 4, 1)\n",
      "#womenStd   = (3, 5, 2, 3)\n",
      "ind = np.arange(N)    # the x locations for the groups\n",
      "width = 0.7       # the width of the bars: can also be len(x) sequence\n",
      "\n",
      "p1 = plt.bar(ind, cornary,   width, color='r', alpha= 0.7)\n",
      "p2 = plt.bar(ind, all_heart, width, color='r', alpha= 0.2, bottom=cornary)\n",
      "\n",
      "plt.ylabel('%chance')\n",
      "plt.title('Chance of insuring a person with heart disease')\n",
      "plt.xticks(ind+width/2., ('no features', 'using features') )\n",
      "plt.yticks(np.arange(0,51,5))\n",
      "plt.legend( (p1[0], p2[0]), ('cornary only', 'all heart') )\n",
      "plt.show()"
     ],
     "language": "python",
     "metadata": {},
     "outputs": [
      {
       "ename": "AttributeError",
       "evalue": "'module' object has no attribute 'fig'",
       "output_type": "pyerr",
       "traceback": [
        "\u001b[0;31m---------------------------------------------------------------------------\u001b[0m\n\u001b[0;31mAttributeError\u001b[0m                            Traceback (most recent call last)",
        "\u001b[0;32m<ipython-input-251-b6366f7fceb7>\u001b[0m in \u001b[0;36m<module>\u001b[0;34m()\u001b[0m\n\u001b[1;32m     15\u001b[0m \u001b[0mplt\u001b[0m\u001b[0;34m.\u001b[0m\u001b[0myticks\u001b[0m\u001b[0;34m(\u001b[0m\u001b[0mnp\u001b[0m\u001b[0;34m.\u001b[0m\u001b[0marange\u001b[0m\u001b[0;34m(\u001b[0m\u001b[0;36m0\u001b[0m\u001b[0;34m,\u001b[0m\u001b[0;36m51\u001b[0m\u001b[0;34m,\u001b[0m\u001b[0;36m5\u001b[0m\u001b[0;34m)\u001b[0m\u001b[0;34m)\u001b[0m\u001b[0;34m\u001b[0m\u001b[0m\n\u001b[1;32m     16\u001b[0m \u001b[0mplt\u001b[0m\u001b[0;34m.\u001b[0m\u001b[0mlegend\u001b[0m\u001b[0;34m(\u001b[0m \u001b[0;34m(\u001b[0m\u001b[0mp1\u001b[0m\u001b[0;34m[\u001b[0m\u001b[0;36m0\u001b[0m\u001b[0;34m]\u001b[0m\u001b[0;34m,\u001b[0m \u001b[0mp2\u001b[0m\u001b[0;34m[\u001b[0m\u001b[0;36m0\u001b[0m\u001b[0;34m]\u001b[0m\u001b[0;34m)\u001b[0m\u001b[0;34m,\u001b[0m \u001b[0;34m(\u001b[0m\u001b[0;34m'cornary only'\u001b[0m\u001b[0;34m,\u001b[0m \u001b[0;34m'all heart'\u001b[0m\u001b[0;34m)\u001b[0m \u001b[0;34m)\u001b[0m\u001b[0;34m\u001b[0m\u001b[0m\n\u001b[0;32m---> 17\u001b[0;31m \u001b[0mplt\u001b[0m\u001b[0;34m.\u001b[0m\u001b[0mfig\u001b[0m\u001b[0;34m(\u001b[0m\u001b[0;36m8\u001b[0m\u001b[0;34m,\u001b[0m\u001b[0;36m8\u001b[0m\u001b[0;34m)\u001b[0m\u001b[0;34m\u001b[0m\u001b[0m\n\u001b[0m\u001b[1;32m     18\u001b[0m \u001b[0mplt\u001b[0m\u001b[0;34m.\u001b[0m\u001b[0mshow\u001b[0m\u001b[0;34m(\u001b[0m\u001b[0;34m)\u001b[0m\u001b[0;34m\u001b[0m\u001b[0m\n",
        "\u001b[0;31mAttributeError\u001b[0m: 'module' object has no attribute 'fig'"
       ]
      },
      {
       "metadata": {},
       "output_type": "display_data",
       "png": "[encoded data removed]",
       "text": [
        "<matplotlib.figure.Figure at 0x105f86b50>"
       ]
      }
     ],
     "prompt_number": 251
    },
    {
     "cell_type": "code",
     "collapsed": false,
     "input": [],
     "language": "python",
     "metadata": {},
     "outputs": []
    }
   ],
   "metadata": {}
  }
 ]
}